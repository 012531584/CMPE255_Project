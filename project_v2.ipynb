{
 "cells": [
  {
   "cell_type": "code",
   "execution_count": 2,
   "metadata": {},
   "outputs": [],
   "source": [
    "import json \n",
    "import pandas as pd \n",
    "import numpy as np\n",
    "from pandas.io.json import json_normalize #package for flattening json in pandas df\n",
    "\n",
    "#import timeit\n",
    "\n",
    "#load json object\n",
    "\n",
    "#start = timeit.default_timer()\n",
    "\n",
    "def file_open(file_name):\n",
    "    json_data = ''\n",
    "    with open(file_name, 'r', encoding='utf-8') as in_file:\n",
    "        for i, line in enumerate(in_file):\n",
    "            if i == 0 and line: \n",
    "                json_data += '[' + line\n",
    "            elif line:\n",
    "                json_data += ',' + line\n",
    "            else:\n",
    "                pass\n",
    "        json_data += ']\\n'\n",
    "    \n",
    "    data = json.loads(json_data)\n",
    "    df = json_normalize(data)\n",
    "    return df\n",
    "#df\n",
    "#stop = timeit.default_timer()\n",
    "#print('Time: ', stop - start)  "
   ]
  },
  {
   "cell_type": "code",
   "execution_count": 3,
   "metadata": {},
   "outputs": [
    {
     "name": "stdout",
     "output_type": "stream",
     "text": [
      "CPU times: user 20 s, sys: 850 ms, total: 20.9 s\n",
      "Wall time: 21 s\n"
     ]
    }
   ],
   "source": [
    "%time df = file_open('business.json')"
   ]
  },
  {
   "cell_type": "code",
   "execution_count": 4,
   "metadata": {},
   "outputs": [
    {
     "data": {
      "text/html": [
       "<div>\n",
       "<style scoped>\n",
       "    .dataframe tbody tr th:only-of-type {\n",
       "        vertical-align: middle;\n",
       "    }\n",
       "\n",
       "    .dataframe tbody tr th {\n",
       "        vertical-align: top;\n",
       "    }\n",
       "\n",
       "    .dataframe thead th {\n",
       "        text-align: right;\n",
       "    }\n",
       "</style>\n",
       "<table border=\"1\" class=\"dataframe\">\n",
       "  <thead>\n",
       "    <tr style=\"text-align: right;\">\n",
       "      <th></th>\n",
       "      <th>name</th>\n",
       "      <th>stars</th>\n",
       "      <th>categories</th>\n",
       "      <th>review_count</th>\n",
       "      <th>business_id</th>\n",
       "    </tr>\n",
       "  </thead>\n",
       "  <tbody>\n",
       "    <tr>\n",
       "      <th>0</th>\n",
       "      <td>Arizona Biltmore Golf Club</td>\n",
       "      <td>3.0</td>\n",
       "      <td>Golf, Active Life</td>\n",
       "      <td>5</td>\n",
       "      <td>1SWheh84yJXfytovILXOAQ</td>\n",
       "    </tr>\n",
       "    <tr>\n",
       "      <th>1</th>\n",
       "      <td>Emerald Chinese Restaurant</td>\n",
       "      <td>2.5</td>\n",
       "      <td>Specialty Food, Restaurants, Dim Sum, Imported...</td>\n",
       "      <td>128</td>\n",
       "      <td>QXAEGFB4oINsVuTFxEYKFQ</td>\n",
       "    </tr>\n",
       "    <tr>\n",
       "      <th>2</th>\n",
       "      <td>Musashi Japanese Restaurant</td>\n",
       "      <td>4.0</td>\n",
       "      <td>Sushi Bars, Restaurants, Japanese</td>\n",
       "      <td>170</td>\n",
       "      <td>gnKjwL_1w79qoiV3IC_xQQ</td>\n",
       "    </tr>\n",
       "    <tr>\n",
       "      <th>3</th>\n",
       "      <td>Farmers Insurance - Paul Lorenz</td>\n",
       "      <td>5.0</td>\n",
       "      <td>Insurance, Financial Services</td>\n",
       "      <td>3</td>\n",
       "      <td>xvX2CttrVhyG2z1dFg_0xw</td>\n",
       "    </tr>\n",
       "    <tr>\n",
       "      <th>4</th>\n",
       "      <td>Queen City Plumbing</td>\n",
       "      <td>4.0</td>\n",
       "      <td>Plumbing, Shopping, Local Services, Home Servi...</td>\n",
       "      <td>4</td>\n",
       "      <td>HhyxOkGAM07SRYtlQ4wMFQ</td>\n",
       "    </tr>\n",
       "  </tbody>\n",
       "</table>\n",
       "</div>"
      ],
      "text/plain": [
       "                              name  stars  \\\n",
       "0       Arizona Biltmore Golf Club    3.0   \n",
       "1       Emerald Chinese Restaurant    2.5   \n",
       "2      Musashi Japanese Restaurant    4.0   \n",
       "3  Farmers Insurance - Paul Lorenz    5.0   \n",
       "4              Queen City Plumbing    4.0   \n",
       "\n",
       "                                          categories  review_count  \\\n",
       "0                                  Golf, Active Life             5   \n",
       "1  Specialty Food, Restaurants, Dim Sum, Imported...           128   \n",
       "2                  Sushi Bars, Restaurants, Japanese           170   \n",
       "3                      Insurance, Financial Services             3   \n",
       "4  Plumbing, Shopping, Local Services, Home Servi...             4   \n",
       "\n",
       "              business_id  \n",
       "0  1SWheh84yJXfytovILXOAQ  \n",
       "1  QXAEGFB4oINsVuTFxEYKFQ  \n",
       "2  gnKjwL_1w79qoiV3IC_xQQ  \n",
       "3  xvX2CttrVhyG2z1dFg_0xw  \n",
       "4  HhyxOkGAM07SRYtlQ4wMFQ  "
      ]
     },
     "execution_count": 4,
     "metadata": {},
     "output_type": "execute_result"
    }
   ],
   "source": [
    "keeps = ['name', 'stars', 'categories', 'review_count', 'business_id']\n",
    "business_df = df[keeps]\n",
    "business_df.head() "
   ]
  },
  {
   "cell_type": "markdown",
   "metadata": {},
   "source": [
    "### Get All Business ID in Restaurant Catag. "
   ]
  },
  {
   "cell_type": "code",
   "execution_count": 5,
   "metadata": {},
   "outputs": [
    {
     "data": {
      "text/html": [
       "<div>\n",
       "<style scoped>\n",
       "    .dataframe tbody tr th:only-of-type {\n",
       "        vertical-align: middle;\n",
       "    }\n",
       "\n",
       "    .dataframe tbody tr th {\n",
       "        vertical-align: top;\n",
       "    }\n",
       "\n",
       "    .dataframe thead th {\n",
       "        text-align: right;\n",
       "    }\n",
       "</style>\n",
       "<table border=\"1\" class=\"dataframe\">\n",
       "  <thead>\n",
       "    <tr style=\"text-align: right;\">\n",
       "      <th></th>\n",
       "      <th>categories</th>\n",
       "      <th>business_id</th>\n",
       "    </tr>\n",
       "  </thead>\n",
       "  <tbody>\n",
       "    <tr>\n",
       "      <th>1</th>\n",
       "      <td>Specialty Food, Restaurants, Dim Sum, Imported...</td>\n",
       "      <td>QXAEGFB4oINsVuTFxEYKFQ</td>\n",
       "    </tr>\n",
       "    <tr>\n",
       "      <th>2</th>\n",
       "      <td>Sushi Bars, Restaurants, Japanese</td>\n",
       "      <td>gnKjwL_1w79qoiV3IC_xQQ</td>\n",
       "    </tr>\n",
       "    <tr>\n",
       "      <th>11</th>\n",
       "      <td>Restaurants, Breakfast &amp; Brunch, Mexican, Taco...</td>\n",
       "      <td>1Dfx3zM-rW4n-31KeC8sJg</td>\n",
       "    </tr>\n",
       "    <tr>\n",
       "      <th>13</th>\n",
       "      <td>Italian, Restaurants, Pizza, Chicken Wings</td>\n",
       "      <td>fweCYi8FmbJXHCqLnwuk8w</td>\n",
       "    </tr>\n",
       "    <tr>\n",
       "      <th>17</th>\n",
       "      <td>Restaurants, Italian</td>\n",
       "      <td>PZ-LZzSlhSe9utkQYU8pFg</td>\n",
       "    </tr>\n",
       "  </tbody>\n",
       "</table>\n",
       "</div>"
      ],
      "text/plain": [
       "                                           categories             business_id\n",
       "1   Specialty Food, Restaurants, Dim Sum, Imported...  QXAEGFB4oINsVuTFxEYKFQ\n",
       "2                   Sushi Bars, Restaurants, Japanese  gnKjwL_1w79qoiV3IC_xQQ\n",
       "11  Restaurants, Breakfast & Brunch, Mexican, Taco...  1Dfx3zM-rW4n-31KeC8sJg\n",
       "13         Italian, Restaurants, Pizza, Chicken Wings  fweCYi8FmbJXHCqLnwuk8w\n",
       "17                               Restaurants, Italian  PZ-LZzSlhSe9utkQYU8pFg"
      ]
     },
     "execution_count": 5,
     "metadata": {},
     "output_type": "execute_result"
    }
   ],
   "source": [
    "temp = business_df.categories.apply(lambda categories: str(categories))\n",
    "restaurant_df = business_df[temp.apply(lambda categories: 'Restaurants' in categories)][['categories',\"business_id\"]]\n",
    "restaurant_df.head()\n",
    "# from https://stackoverflow.com/questions/52346296/pandas-dataframe-apply-typeerror-argument-of-type-float-is-not-iterable"
   ]
  },
  {
   "cell_type": "code",
   "execution_count": 622,
   "metadata": {},
   "outputs": [
    {
     "data": {
      "text/plain": [
       "1     QXAEGFB4oINsVuTFxEYKFQ\n",
       "2     gnKjwL_1w79qoiV3IC_xQQ\n",
       "11    1Dfx3zM-rW4n-31KeC8sJg\n",
       "13    fweCYi8FmbJXHCqLnwuk8w\n",
       "17    PZ-LZzSlhSe9utkQYU8pFg\n",
       "Name: business_id, dtype: object"
      ]
     },
     "execution_count": 622,
     "metadata": {},
     "output_type": "execute_result"
    }
   ],
   "source": [
    "business_id = restaurant_df.business_id\n",
    "business_id.head()"
   ]
  },
  {
   "cell_type": "code",
   "execution_count": 7,
   "metadata": {
    "scrolled": false
   },
   "outputs": [
    {
     "name": "stdout",
     "output_type": "stream",
     "text": [
      "CPU times: user 4min 10s, sys: 3min 48s, total: 7min 59s\n",
      "Wall time: 11min 18s\n"
     ]
    }
   ],
   "source": [
    "# read review file\n",
    "#review_df = pd.read_json(\"review.json\", lines=True)\n",
    "#review_df.head\n",
    "\n",
    "%time review_df = file_open('review.json')"
   ]
  },
  {
   "cell_type": "markdown",
   "metadata": {},
   "source": [
    "### Get Review Data in Restaurant Field. "
   ]
  },
  {
   "cell_type": "code",
   "execution_count": 9,
   "metadata": {},
   "outputs": [
    {
     "name": "stdout",
     "output_type": "stream",
     "text": [
      "CPU times: user 41.1 s, sys: 3min 26s, total: 4min 7s\n",
      "Wall time: 7min 21s\n"
     ]
    }
   ],
   "source": [
    "%time res_review = pd.merge(review_df,restaurant_df,on = 'business_id', how = 'left', sort = False)\n",
    "res_review=res_review.fillna(0)"
   ]
  },
  {
   "cell_type": "code",
   "execution_count": 13,
   "metadata": {},
   "outputs": [
    {
     "data": {
      "text/html": [
       "<div>\n",
       "<style scoped>\n",
       "    .dataframe tbody tr th:only-of-type {\n",
       "        vertical-align: middle;\n",
       "    }\n",
       "\n",
       "    .dataframe tbody tr th {\n",
       "        vertical-align: top;\n",
       "    }\n",
       "\n",
       "    .dataframe thead th {\n",
       "        text-align: right;\n",
       "    }\n",
       "</style>\n",
       "<table border=\"1\" class=\"dataframe\">\n",
       "  <thead>\n",
       "    <tr style=\"text-align: right;\">\n",
       "      <th></th>\n",
       "      <th>business_id</th>\n",
       "      <th>cool</th>\n",
       "      <th>date</th>\n",
       "      <th>funny</th>\n",
       "      <th>review_id</th>\n",
       "      <th>stars</th>\n",
       "      <th>text</th>\n",
       "      <th>useful</th>\n",
       "      <th>user_id</th>\n",
       "      <th>categories</th>\n",
       "    </tr>\n",
       "  </thead>\n",
       "  <tbody>\n",
       "    <tr>\n",
       "      <th>0</th>\n",
       "      <td>ujmEBvifdJM6h6RLv4wQIg</td>\n",
       "      <td>0</td>\n",
       "      <td>2013-05-07 04:34:36</td>\n",
       "      <td>1</td>\n",
       "      <td>Q1sbwvVQXV2734tPgoKj4Q</td>\n",
       "      <td>1.0</td>\n",
       "      <td>Total bill for this horrible service? Over $8G...</td>\n",
       "      <td>6</td>\n",
       "      <td>hG7b0MtEbXx5QzbzE6C_VA</td>\n",
       "      <td>0</td>\n",
       "    </tr>\n",
       "    <tr>\n",
       "      <th>1</th>\n",
       "      <td>NZnhc2sEQy3RmzKTZnqtwQ</td>\n",
       "      <td>0</td>\n",
       "      <td>2017-01-14 21:30:33</td>\n",
       "      <td>0</td>\n",
       "      <td>GJXCdrto3ASJOqKeVWPi6Q</td>\n",
       "      <td>5.0</td>\n",
       "      <td>I *adore* Travis at the Hard Rock's new Kelly ...</td>\n",
       "      <td>0</td>\n",
       "      <td>yXQM5uF2jS6es16SJzNHfg</td>\n",
       "      <td>0</td>\n",
       "    </tr>\n",
       "    <tr>\n",
       "      <th>2</th>\n",
       "      <td>WTqjgwHlXbSFevF32_DJVw</td>\n",
       "      <td>0</td>\n",
       "      <td>2016-11-09 20:09:03</td>\n",
       "      <td>0</td>\n",
       "      <td>2TzJjDVDEuAW6MR5Vuc1ug</td>\n",
       "      <td>5.0</td>\n",
       "      <td>I have to say that this office really has it t...</td>\n",
       "      <td>3</td>\n",
       "      <td>n6-Gk65cPZL6Uz8qRm3NYw</td>\n",
       "      <td>0</td>\n",
       "    </tr>\n",
       "    <tr>\n",
       "      <th>3</th>\n",
       "      <td>ikCg8xy5JIg_NGPx-MSIDA</td>\n",
       "      <td>0</td>\n",
       "      <td>2018-01-09 20:56:38</td>\n",
       "      <td>0</td>\n",
       "      <td>yi0R0Ugj_xUx_Nek0-_Qig</td>\n",
       "      <td>5.0</td>\n",
       "      <td>Went in for a lunch. Steak sandwich was delici...</td>\n",
       "      <td>0</td>\n",
       "      <td>dacAIZ6fTM6mqwW5uxkskg</td>\n",
       "      <td>Bars, Pubs, Nightlife, Tapas Bars, Restaurants</td>\n",
       "    </tr>\n",
       "    <tr>\n",
       "      <th>4</th>\n",
       "      <td>b1b1eb3uo-w561D0ZfCEiQ</td>\n",
       "      <td>0</td>\n",
       "      <td>2018-01-30 23:07:38</td>\n",
       "      <td>0</td>\n",
       "      <td>11a8sVPMUFtaC7_ABRkmtw</td>\n",
       "      <td>1.0</td>\n",
       "      <td>Today was my second out of three sessions I ha...</td>\n",
       "      <td>7</td>\n",
       "      <td>ssoyf2_x0EQMed6fgHeMyQ</td>\n",
       "      <td>0</td>\n",
       "    </tr>\n",
       "  </tbody>\n",
       "</table>\n",
       "</div>"
      ],
      "text/plain": [
       "              business_id  cool                 date  funny  \\\n",
       "0  ujmEBvifdJM6h6RLv4wQIg     0  2013-05-07 04:34:36      1   \n",
       "1  NZnhc2sEQy3RmzKTZnqtwQ     0  2017-01-14 21:30:33      0   \n",
       "2  WTqjgwHlXbSFevF32_DJVw     0  2016-11-09 20:09:03      0   \n",
       "3  ikCg8xy5JIg_NGPx-MSIDA     0  2018-01-09 20:56:38      0   \n",
       "4  b1b1eb3uo-w561D0ZfCEiQ     0  2018-01-30 23:07:38      0   \n",
       "\n",
       "                review_id  stars  \\\n",
       "0  Q1sbwvVQXV2734tPgoKj4Q    1.0   \n",
       "1  GJXCdrto3ASJOqKeVWPi6Q    5.0   \n",
       "2  2TzJjDVDEuAW6MR5Vuc1ug    5.0   \n",
       "3  yi0R0Ugj_xUx_Nek0-_Qig    5.0   \n",
       "4  11a8sVPMUFtaC7_ABRkmtw    1.0   \n",
       "\n",
       "                                                text  useful  \\\n",
       "0  Total bill for this horrible service? Over $8G...       6   \n",
       "1  I *adore* Travis at the Hard Rock's new Kelly ...       0   \n",
       "2  I have to say that this office really has it t...       3   \n",
       "3  Went in for a lunch. Steak sandwich was delici...       0   \n",
       "4  Today was my second out of three sessions I ha...       7   \n",
       "\n",
       "                  user_id                                      categories  \n",
       "0  hG7b0MtEbXx5QzbzE6C_VA                                               0  \n",
       "1  yXQM5uF2jS6es16SJzNHfg                                               0  \n",
       "2  n6-Gk65cPZL6Uz8qRm3NYw                                               0  \n",
       "3  dacAIZ6fTM6mqwW5uxkskg  Bars, Pubs, Nightlife, Tapas Bars, Restaurants  \n",
       "4  ssoyf2_x0EQMed6fgHeMyQ                                               0  "
      ]
     },
     "execution_count": 13,
     "metadata": {},
     "output_type": "execute_result"
    }
   ],
   "source": [
    "res_review.head()"
   ]
  },
  {
   "cell_type": "code",
   "execution_count": 14,
   "metadata": {},
   "outputs": [
    {
     "name": "stdout",
     "output_type": "stream",
     "text": [
      "CPU times: user 4.05 s, sys: 18.6 s, total: 22.7 s\n",
      "Wall time: 44.2 s\n"
     ]
    },
    {
     "data": {
      "text/plain": [
       "(4201684, 10)"
      ]
     },
     "execution_count": 14,
     "metadata": {},
     "output_type": "execute_result"
    }
   ],
   "source": [
    "%time restaurant_review=res_review[res_review.categories!=0]\n",
    "restaurant_review.shape"
   ]
  },
  {
   "cell_type": "markdown",
   "metadata": {},
   "source": [
    "### Text Cleaning & Generate Phrases"
   ]
  },
  {
   "cell_type": "code",
   "execution_count": null,
   "metadata": {},
   "outputs": [],
   "source": [
    "import warnings\n",
    "warnings.filterwarnings(\"ignore\")"
   ]
  },
  {
   "cell_type": "code",
   "execution_count": 770,
   "metadata": {},
   "outputs": [],
   "source": [
    "import re\n",
    "import string\n",
    "char_splitter = re.compile(\"[.,;!:()-]?\")    # splitted by these puncuation    ex. \"i mean it's taco bell\", \"so ~\"\n",
    "def generate_candidate_phrases(text, stopwords):\n",
    "    coarse_candidates = char_splitter.split(text.lower())\n",
    "    candidate_phrases = []\n",
    "    #filtered_word = []\n",
    "    word=\"\"\n",
    "    n=0\n",
    "    for coarse_phrase in coarse_candidates:\n",
    "        words=re.split(\"\\\\s+\", coarse_phrase.strip())\n",
    "        previous_stop = False\n",
    "        start=True\n",
    "        #print('words: ', words)\n",
    "        for w in words:\n",
    "            w=w.translate(str.maketrans('', '', string.punctuation))\n",
    "            if w in stopwords and not previous_stop:\n",
    "\n",
    "                # phrase boundary encountered, so put a hard indicator\n",
    "                if n>1:          \n",
    "                    ### phrase is here ###\n",
    "                    #filtered_word.append(word.split(\"_\"))\n",
    "                    candidate_phrases.append(word)\n",
    "                previous_stop = True\n",
    "                word=\"\"\n",
    "                n=0\n",
    "            elif w in stopwords and previous_stop:\n",
    "\n",
    "                word=\"\"\n",
    "                n=0\n",
    "            elif w not in stopwords and len(w) > 3:\n",
    "                # keep adding words to list until a phrase boundary is detected\n",
    "                \n",
    "                if start==True:\n",
    "                    n=1     \n",
    "                    start=False\n",
    "                elif previous_stop==False:\n",
    "                    w=\"_\"+w\n",
    "                    n=n+1      # n continues non-stopword\n",
    "                else:\n",
    "                    n=1\n",
    "                \n",
    "                word+=w\n",
    "                previous_stop = False\n",
    "\n",
    "\n",
    "    if n>1:\n",
    "        ### phrase is here ###\n",
    "        #filtered_word.append(word.split(\"_\"))\n",
    "        candidate_phrases.append(word)\n",
    "\n",
    "    return candidate_phrases "
   ]
  },
  {
   "cell_type": "code",
   "execution_count": 55,
   "metadata": {},
   "outputs": [],
   "source": [
    "import spacy\n",
    "sp = spacy.load('en') \n",
    "stop=list(sp.Defaults.stop_words) \n",
    "stop.append(\"said\")\n",
    "stop.append(\"came\")\n",
    "stop.append(\"tell\")\n",
    "stop.append(\"told\")\n",
    "stop.append(\"when\")\n",
    "stop.append(\"maybe\")\n",
    "stop.append(\"sure\")\n",
    "stop.append(\"like\")\n",
    "stop.append(\"it's\")\n",
    "stop.append(\"i'm\")\n",
    "stop.append(\"ask\")\n",
    "stop.append(\"asked\")"
   ]
  },
  {
   "cell_type": "code",
   "execution_count": 772,
   "metadata": {},
   "outputs": [],
   "source": [
    "''' get phrases in each review'''\n",
    "#test = same_id['text']\n",
    "def get_phrases(test):\n",
    "    p=[]\n",
    "    for s in test:\n",
    "        #phrases = generate_candidate_phrases(s,stop)\n",
    "        #p.append(phrases)\n",
    "        p.append(generate_candidate_phrases(s,stop))\n",
    "    return p"
   ]
  },
  {
   "cell_type": "code",
   "execution_count": 63,
   "metadata": {},
   "outputs": [],
   "source": [
    "%time p = get_phrases(restaurant_review['text'])"
   ]
  },
  {
   "cell_type": "markdown",
   "metadata": {},
   "source": [
    "### Start Building Word2Vec Model"
   ]
  },
  {
   "cell_type": "code",
   "execution_count": 65,
   "metadata": {
    "scrolled": true
   },
   "outputs": [
    {
     "name": "stdout",
     "output_type": "stream",
     "text": [
      "CPU times: user 44min 8s, sys: 27.7 s, total: 44min 35s\n",
      "Wall time: 15min 24s\n"
     ]
    },
    {
     "data": {
      "text/plain": [
       "(426493854, 687270340)"
      ]
     },
     "execution_count": 65,
     "metadata": {},
     "output_type": "execute_result"
    }
   ],
   "source": [
    "#from gensim.models import Word2Vec\n",
    "import gensim\n",
    "model = gensim.models.Word2Vec(\n",
    "        p,\n",
    "        size=200,\n",
    "        window=10,\n",
    "        min_count=10,\n",
    "        alpha=0.02,\n",
    "        workers=10)\n",
    "%time model.train(p, total_examples=len(p), epochs=20)"
   ]
  },
  {
   "cell_type": "code",
   "execution_count": 68,
   "metadata": {},
   "outputs": [],
   "source": [
    "model.save(\"word2vec.model\")"
   ]
  },
  {
   "cell_type": "code",
   "execution_count": 71,
   "metadata": {},
   "outputs": [
    {
     "data": {
      "text/plain": [
       "[('rude_employees', 0.7338390350341797),\n",
       " ('zero_customer_service_skills', 0.7189843058586121),\n",
       " ('zero_customer_service', 0.7181423902511597),\n",
       " ('horrible_staff', 0.7154984474182129),\n",
       " ('worse_customer_service', 0.7120515704154968),\n",
       " ('rude_people', 0.7102500796318054),\n",
       " ('rude_owner', 0.7071900367736816),\n",
       " ('unprofessional_person', 0.706324577331543),\n",
       " ('rudest_person', 0.7057175636291504),\n",
       " ('staff_sucks', 0.7052751183509827)]"
      ]
     },
     "execution_count": 71,
     "metadata": {},
     "output_type": "execute_result"
    }
   ],
   "source": [
    "w1=['rude_staff']\n",
    "model.wv.most_similar(w1)"
   ]
  },
  {
   "cell_type": "code",
   "execution_count": 36,
   "metadata": {
    "scrolled": true
   },
   "outputs": [
    {
     "data": {
      "text/plain": [
       "[('large_parties', 0.8030858039855957),\n",
       " ('large_party', 0.7886699438095093),\n",
       " ('larger_groups', 0.7379469871520996),\n",
       " ('small_groups', 0.7081803679466248),\n",
       " ('larger_party', 0.6992192268371582),\n",
       " ('long_table', 0.688779890537262),\n",
       " ('group_size', 0.6792962551116943),\n",
       " ('easily_accommodate', 0.6541699171066284),\n",
       " ('long_tables', 0.6538715362548828),\n",
       " ('accommodate_large_groups', 0.6448752880096436)]"
      ]
     },
     "execution_count": 36,
     "metadata": {},
     "output_type": "execute_result"
    }
   ],
   "source": [
    "w1=['large_groups']\n",
    "model.wv.most_similar(w1)"
   ]
  },
  {
   "cell_type": "markdown",
   "metadata": {},
   "source": [
    "### K-Medoid Function"
   ]
  },
  {
   "cell_type": "code",
   "execution_count": 791,
   "metadata": {},
   "outputs": [],
   "source": [
    "import random\n",
    "\n",
    "def assign_points_to_clusters(medoids, distances):\n",
    "    distances_to_medoids = distances[:,medoids]\n",
    "    clusters = medoids[np.argmin(distances_to_medoids, axis=1)]     # horizontal, return minimum value's index\n",
    "    clusters[medoids] = medoids\n",
    "    return clusters\n",
    "\n",
    "def compute_new_medoid(cluster, distances):\n",
    "    mask = np.ones(distances.shape)\n",
    "    mask[np.ix_(cluster,cluster)] = 0.\n",
    "    cluster_distances = np.ma.masked_array(data=distances, mask=mask, fill_value=10e9)\n",
    "    costs = cluster_distances.sum(axis=1)\n",
    "    return costs.argmin(axis=0, fill_value=10e9)\n",
    "def cluster(distances, k):\n",
    "    m = distances.shape[0] # number of points\n",
    "\n",
    "    # Pick k random medoids.\n",
    "    curr_medoids = np.array([-1]*k)\n",
    "    while not len(np.unique(curr_medoids)) == k:\n",
    "        curr_medoids = np.array([random.randint(0, m - 1) for _ in range(k)])\n",
    "    old_medoids = np.array([-1]*k) # Doesn't matter what we initialize these to.\n",
    "    new_medoids = np.array([-1]*k)\n",
    "   \n",
    "    # Until the medoids stop updating, do the following:\n",
    "    while not ((old_medoids == curr_medoids).all()):\n",
    "        # Assign each point to cluster with closest medoid.\n",
    "        clusters = []\n",
    "        clusters = assign_points_to_clusters(curr_medoids, distances)\n",
    "        # Update cluster medoids to be lowest cost point. \n",
    "        for curr_medoid in curr_medoids:\n",
    "            cluster = np.where(clusters == curr_medoid)[0]\n",
    "            new_medoids[curr_medoids == curr_medoid] = compute_new_medoid(cluster, distances)\n",
    "        old_medoids[:] = curr_medoids[:]\n",
    "        curr_medoids[:] = new_medoids[:]\n",
    "    return curr_medoids"
   ]
  },
  {
   "cell_type": "markdown",
   "metadata": {},
   "source": [
    "### Enhance Clustering Model & Get Result Tags"
   ]
  },
  {
   "cell_type": "code",
   "execution_count": 1,
   "metadata": {},
   "outputs": [],
   "source": [
    "from sklearn.cluster import DBSCAN\n",
    "from collections import Counter\n",
    "import numpy as np\n",
    "\n",
    "def get_predict(businessid):\n",
    "    test=res_review[\"text\"][res_review.business_id==businessid]\n",
    "    l=len(test)\n",
    "    \n",
    "    if l<60:\n",
    "        minspl=3\n",
    "        eps=0.25\n",
    "    elif l<180:\n",
    "        minspl=5\n",
    "        eps=0.25\n",
    "    elif l<500:\n",
    "        minspl=8\n",
    "        eps=0.25\n",
    "    elif l<1000:\n",
    "        minspl=10\n",
    "        eps=0.25\n",
    "    elif l<2000:\n",
    "        minspl=12\n",
    "        eps=0.25\n",
    "    else:\n",
    "        minspl=15\n",
    "        eps=0.25\n",
    "    #print('len: ', l, 'eps: ', eps, 'minspl: ', minspl)\n",
    "    return prediction(test,eps,minspl)\n",
    "\n",
    "def prediction(test,eps,minspl):\n",
    "    ##get data \n",
    "    p1 = []\n",
    "    for s in test:\n",
    "        p1.append(generate_candidate_phrases(s,stop))\n",
    "    words=sum(p1,[])          # transfering phrases from 2D array to 1D array\n",
    "    ##remove uncommon words\n",
    "    candidates=[]\n",
    "    for a in words:\n",
    "        if a in model.wv:\n",
    "            candidates.append(a)\n",
    "            \n",
    "    ##calculate similarity\n",
    "    sim=[[0]*len(candidates) for _ in range(len(candidates))]    # create 0-based 2D array\n",
    "    for i in range(len(candidates)):\n",
    "        for j in range(i,len(candidates)):\n",
    "            d=model.wv.similarity(candidates[i],candidates[j]) \n",
    "            d = (1 if d > 1 else d)\n",
    "            d = (abs(d) if d<0 else d)\n",
    "            sim[i][j] = d\n",
    "            sim[j][i] = d\n",
    "    sim=np.array(sim)\n",
    "    dis = sim.copy()\n",
    "    dis = 1. - dis\n",
    "\n",
    "    ##DBSCAN\n",
    "    db = DBSCAN(metric=\"precomputed\",algorithm=\"brute\",eps=eps, min_samples=minspl).fit(dis)\n",
    "    db_labels = db.labels_\n",
    "    db_core=db.core_sample_indices_\n",
    "    db_n_clusters_ = len(set(db_labels)) - (1 if -1 in db_labels else 0)    # set() to merge repeated elements\n",
    "\n",
    "    db_result = get_result(db_n_clusters_, db_core, db_labels, candidates)\n",
    "    \n",
    "    ## kMedoids\n",
    "    Medoids_result = []\n",
    "    Medoids_points = cluster(dis, db_n_clusters_)\n",
    "\n",
    "    [Medoids_result.append(candidates[pts]) for pts in Medoids_points]\n",
    "    \n",
    "    ##AffinityPropagation\n",
    "    Aff = AffinityPropagation(affinity='precomputed').fit(dis)\n",
    "\n",
    "    Aff_core = Aff.cluster_centers_indices_\n",
    "    \n",
    "    if Aff_core is None:     ## error handling\n",
    "        Aff_result = []\n",
    "    else:\n",
    "        Aff_n_clusters = len(set(Aff.labels_))\n",
    "        Aff_labels = Aff.labels_\n",
    "        Aff_result = get_result(Aff_n_clusters, Aff_core, Aff_labels, candidates)\n",
    "    \n",
    "    return db_result, Medoids_result, Aff_result, words\n",
    "\n",
    "    \n",
    "def get_result(n_clusters_, core, labels, candidates):\n",
    "    group=[[]*n_clusters_ for _ in range(n_clusters_)]   #create empty 2D array, (size : n_clusters_ * n_clusters_)\n",
    "    for i in core:\n",
    "        j=int(labels[i])\n",
    "        group[j].append(candidates[i])         # getting each cluster's phrases\n",
    "        #print(\"core_num: \", i, \" ; candidates: \", candidates[i])\n",
    "    result=[]\n",
    "    for i in range(len(group)):\n",
    "        re=group[i]\n",
    "        if len(set(re))==1:         # set to merge same phrases of one row\n",
    "            result.append(re[0])\n",
    "        else:\n",
    "            cnt = Counter(re)    # get each frequency and return most common one\n",
    "            a=cnt.most_common(1)\n",
    "            result.append(a[0][0])\n",
    "    return result"
   ]
  },
  {
   "cell_type": "markdown",
   "metadata": {},
   "source": [
    "### Evaluation Process"
   ]
  },
  {
   "cell_type": "code",
   "execution_count": 2,
   "metadata": {},
   "outputs": [],
   "source": [
    "# get similarity between pharses in a result\n",
    "def sim_eva(result):\n",
    "    total_sim = 0\n",
    "    itr_count = 0\n",
    "    if len(result)<2:   #no phrase or one phrase\n",
    "        return 0\n",
    "    for idx1 in range(len(result)):\n",
    "        for idx2 in range(idx1+1, len(result)):\n",
    "            sim = model.wv.similarity(result[idx1],result[idx2])\n",
    "            sim = (0 if sim<0 else sim)\n",
    "            itr_count +=1\n",
    "            total_sim += sim\n",
    "    return total_sim/itr_count"
   ]
  },
  {
   "cell_type": "code",
   "execution_count": 3,
   "metadata": {},
   "outputs": [],
   "source": [
    "def freq_eva(result, phrases):\n",
    "    if len(result)==0:   #empty result\n",
    "        return 0\n",
    "    total_phrases_freq = 0\n",
    "    phrase_dic = Counter(phrases)\n",
    "\n",
    "    for p in result:\n",
    "        total_phrases_freq += phrase_dic[p]\n",
    "\n",
    "    return total_phrases_freq/len(result)"
   ]
  },
  {
   "cell_type": "markdown",
   "metadata": {},
   "source": [
    "### Give 10 Random Business ID and Compute the Average of Similarity&Frequency"
   ]
  },
  {
   "cell_type": "code",
   "execution_count": 967,
   "metadata": {},
   "outputs": [],
   "source": [
    "# run multiple business ID and get their average\n",
    "def entire_eva(business_id):  \n",
    "    sim_DB=0\n",
    "    sim_Medoid=0\n",
    "    sim_Aff=0\n",
    "    freq_DB=0\n",
    "    freq_Meoid=0\n",
    "    freq_Aff=0\n",
    "    count = 0\n",
    "    for i in random.sample(range(59371), 10):      # generate ten random index\n",
    "        ID_Idx = business_id.index[i]\n",
    "        business_ID = business_id[ID_Idx]\n",
    "        result_DB, result_Medoid, result_Aff, words = get_predict(business_ID)\n",
    "        \n",
    "        sim_DB += sim_eva(result_DB)\n",
    "        sim_Medoid += sim_eva(result_Medoid)\n",
    "        sim_Aff += sim_eva(result_Aff)\n",
    "        \n",
    "        freq_DB += freq_eva(result_DB, words)\n",
    "        freq_Meoid += freq_eva(result_Medoid, words)\n",
    "        freq_Aff += freq_eva(result_Aff, words)\n",
    "        count += 1\n",
    "    return sim_DB/count, freq_DB/count, sim_Medoid/count, freq_Meoid/count, sim_Aff/count, freq_Aff/count"
   ]
  },
  {
   "cell_type": "code",
   "execution_count": null,
   "metadata": {},
   "outputs": [],
   "source": [
    "# plot the evaluation result\n",
    "def eva_plot(Sim_List, Freq_List):\n",
    "    plt.figure(figsize=(15, 5))\n",
    "    x_name = [\"DBSCAN\",\"Medoid\",\"AffinityPropagation\"]\n",
    "    ax1 = plt.subplot(131)\n",
    "    x1_value = Sim_List\n",
    "    ax1.bar(x_name, x1_value, color=['lightskyblue','yellowgreen','grey'], width = 0.5)\n",
    "    ax1.set_title(\"Average Similarity\")\n",
    "\n",
    "    ax2= plt.subplot(132)\n",
    "    x2_value = Freq_List\n",
    "    ax2.bar(x_name, x2_value, color=['lightskyblue','yellowgreen','grey'], width = 0.5)\n",
    "    ax2.set_title(\"Frequency of Occurrence\")\n",
    "\n",
    "    ax3= plt.subplot(133)\n",
    "    x =[0,1,2]\n",
    "    ax3.bar(x, x1_value, width=0.5, label='similarity',fc = 'y')\n",
    "    for i in range(len(x)):\n",
    "        x[i] = x[i] + 0.5\n",
    "    ax3.bar(x, x2_value, width=0.5, label='frequency',tick_label = x_name,fc = 'r')\n",
    "    ax3.legend()\n",
    "    #plt.show()"
   ]
  },
  {
   "cell_type": "markdown",
   "metadata": {},
   "source": [
    "### Iterate 3 times"
   ]
  },
  {
   "cell_type": "code",
   "execution_count": 968,
   "metadata": {},
   "outputs": [
    {
     "name": "stdout",
     "output_type": "stream",
     "text": [
      "CPU times: user 2min 58s, sys: 8.06 s, total: 3min 6s\n",
      "Wall time: 3min 18s\n",
      "CPU times: user 18.7 s, sys: 721 ms, total: 19.5 s\n",
      "Wall time: 20.7 s\n",
      "CPU times: user 41 s, sys: 1.1 s, total: 42.1 s\n",
      "Wall time: 43.7 s\n"
     ]
    },
    {
     "data": {
      "image/png": "[encoded data removed]",
      "text/plain": [
       "<Figure size 1080x360 with 3 Axes>"
      ]
     },
     "metadata": {},
     "output_type": "display_data"
    },
    {
     "data": {
      "image/png": "[encoded data removed]",
      "text/plain": [
       "<Figure size 1080x360 with 3 Axes>"
      ]
     },
     "metadata": {},
     "output_type": "display_data"
    },
    {
     "data": {
      "image/png": "[encoded data removed]",
      "text/plain": [
       "<Figure size 1080x360 with 3 Axes>"
      ]
     },
     "metadata": {},
     "output_type": "display_data"
    }
   ],
   "source": [
    "for i in range(3):\n",
    "    %time DB_sim_eva, DB_freq_eva, Medoid_sim_eva, Medoid_freq_eva, Aff_sim_eva, Aff_freq_eva = entire_eva(business_id)\n",
    "    Sim_List = [DB_sim_eva, Medoid_sim_eva, Aff_sim_eva]\n",
    "    Freq_List = [DB_freq_eva, Medoid_freq_eva, Aff_freq_eva]\n",
    "    eva_plot(Sim_List, Freq_List)"
   ]
  },
  {
   "cell_type": "code",
   "execution_count": 904,
   "metadata": {},
   "outputs": [
    {
     "name": "stdout",
     "output_type": "stream",
     "text": [
      "dbscan average sim:  0.13539281304478062\n",
      "dbscan average occurrence frequency:  3.405555555555556\n",
      "kmedoid average sim:  0.044302749719003776\n",
      "kmedoid average occurrence frequency:  1.8616666666666668\n",
      "AffinityPropagation average sim:  0.056406352932191164\n",
      "AffinityPropagation average occurrence frequency:  1.0478835978835979\n"
     ]
    }
   ],
   "source": [
    "# random 10\n",
    "print('dbscan average sim: ',DB_sim_eva)\n",
    "print('dbscan average occurrence frequency: ',DB_freq_eva)\n",
    "print('kmedoid average sim: ',Medoid_sim_eva)\n",
    "print('kmedoid average occurrence frequency: ',Medoid_freq_eva)\n",
    "print('AffinityPropagation average sim: ',Aff_sim_eva)\n",
    "print('AffinityPropagation average occurrence frequency: ',Aff_freq_eva)"
   ]
  },
  {
   "cell_type": "code",
   "execution_count": 811,
   "metadata": {},
   "outputs": [
    {
     "name": "stdout",
     "output_type": "stream",
     "text": [
      "dbscan average sim:  0.10364119557598162\n",
      "dbscan average occurrence frequency:  3.672733260891156\n",
      "kmedoid average sim:  0.07180642659511553\n",
      "kmedoid average occurrence frequency:  1.4695075392443815\n",
      "AffinityPropagation average sim:  0.044533510117039626\n",
      "AffinityPropagation average occurrence frequency:  1.0692855337929583\n"
     ]
    }
   ],
   "source": [
    "# 201~300 business\n",
    "print('dbscan average sim: ',DB_sim_eva)\n",
    "print('dbscan average occurrence frequency: ',DB_freq_eva)\n",
    "print('kmedoid average sim: ',Medoid_sim_eva)\n",
    "print('kmedoid average occurrence frequency: ',Medoid_freq_eva)\n",
    "print('AffinityPropagation average sim: ',Aff_sim_eva)\n",
    "print('AffinityPropagation average occurrence frequency: ',Aff_freq_eva)"
   ]
  },
  {
   "cell_type": "code",
   "execution_count": 783,
   "metadata": {
    "scrolled": true
   },
   "outputs": [
    {
     "name": "stdout",
     "output_type": "stream",
     "text": [
      "dbscan average sim:  0.12619243029757965\n",
      "dbscan average occurance frequency:  5.979012345679013\n",
      "kmedoid average sim:  0.044199502079052\n",
      "kmedoid average occurance frequency:  1.717283950617284\n",
      "AffinityPropagation average sim:  0.05535020013876337\n",
      "AffinityPropagation average occurance frequency:  1.107573539926481\n"
     ]
    }
   ],
   "source": [
    "# 5 business\n",
    "print('dbscan average sim: ',DB_sim_eva)\n",
    "print('dbscan average occurance frequency: ',DB_freq_eva)\n",
    "print('kmedoid average sim: ',Medoid_sim_eva)\n",
    "print('kmedoid average occurance frequency: ',Medoid_freq_eva)\n",
    "print('AffinityPropagation average sim: ',Aff_sim_eva)\n",
    "print('AffinityPropagation average occurance frequency: ',Aff_freq_eva)"
   ]
  },
  {
   "cell_type": "code",
   "execution_count": 690,
   "metadata": {},
   "outputs": [
    {
     "name": "stdout",
     "output_type": "stream",
     "text": [
      "dbscan average sim:  0.16627235469734583\n",
      "dbscan average occurance frequency:  6.191975308641975\n",
      "kmedoid average sim:  0.07297091711582732\n",
      "kmedoid average occurance frequency:  1.8777777777777775\n",
      "AffinityPropagation average sim:  0.05535020013876337\n",
      "AffinityPropagation average occurance frequency:  1.107573539926481\n"
     ]
    }
   ],
   "source": [
    "# 11~20 business\n",
    "print('dbscan average sim: ',DB_sim_eva)\n",
    "print('dbscan average occurance frequency: ',DB_freq_eva)\n",
    "print('kmedoid average sim: ',Medoid_sim_eva)\n",
    "print('kmedoid average occurance frequency: ',Medoid_freq_eva)\n",
    "print('AffinityPropagation average sim: ',Aff_sim_eva)\n",
    "print('AffinityPropagation average occurance frequency: ',Aff_freq_eva)"
   ]
  },
  {
   "cell_type": "code",
   "execution_count": 553,
   "metadata": {},
   "outputs": [
    {
     "name": "stdout",
     "output_type": "stream",
     "text": [
      "dbscan average sim:  0.09088637088391487\n",
      "dbscan average occurance frequency:  3.622353661754557\n",
      "kmedoid average sim:  0.042527594823769214\n",
      "kmedoid average occurance frequency:  1.4167624075980856\n",
      "AffinityPropagation average sim:  0.04507472028895995\n",
      "AffinityPropagation average occurance frequency:  1.0819425709993546\n"
     ]
    }
   ],
   "source": [
    "# 100 business\n",
    "print('dbscan average sim: ',DB_sim_eva)\n",
    "print('dbscan average occurance frequency: ',DB_freq_eva)\n",
    "print('kmedoid average sim: ',Medoid_sim_eva)\n",
    "print('kmedoid average occurance frequency: ',Medoid_freq_eva)\n",
    "print('AffinityPropagation average sim: ',Aff_sim_eva)\n",
    "print('AffinityPropagation average occurance frequency: ',Aff_freq_eva)"
   ]
  },
  {
   "cell_type": "code",
   "execution_count": 548,
   "metadata": {
    "scrolled": true
   },
   "outputs": [
    {
     "name": "stdout",
     "output_type": "stream",
     "text": [
      "dbscan average sim:  0.22009123048817666\n",
      "dbscan average occurance frequency:  4.1066666666666665\n",
      "kmedoid average sim:  0.07086704601624425\n",
      "kmedoid average occurance frequency:  2.0466666666666664\n",
      "AffinityPropagation average sim:  0.03758353989880901\n",
      "AffinityPropagation average occurance frequency:  1.1733333333333333\n"
     ]
    }
   ],
   "source": [
    "# 5 business\n",
    "print('dbscan average sim: ',DB_sim_eva)\n",
    "print('dbscan average occurance frequency: ',DB_freq_eva)\n",
    "print('kmedoid average sim: ',Medoid_sim_eva)\n",
    "print('kmedoid average occurance frequency: ',Medoid_freq_eva)\n",
    "print('AffinityPropagation average sim: ',Aff_sim_eva)\n",
    "print('AffinityPropagation average occurance frequency: ',Aff_freq_eva)"
   ]
  }
 ],
 "metadata": {
  "kernelspec": {
   "display_name": "Python 3",
   "language": "python",
   "name": "python3"
  },
  "language_info": {
   "codemirror_mode": {
    "name": "ipython",
    "version": 3
   },
   "file_extension": ".py",
   "mimetype": "text/x-python",
   "name": "python",
   "nbconvert_exporter": "python",
   "pygments_lexer": "ipython3",
   "version": "3.6.5"
  }
 },
 "nbformat": 4,
 "nbformat_minor": 2
}
